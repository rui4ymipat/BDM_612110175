{
 "cells": [
  {
   "cell_type": "code",
   "execution_count": 1,
   "metadata": {
    "_cell_guid": "b1076dfc-b9ad-4769-8c92-a6c4dae69d19",
    "_uuid": "8f2839f25d086af736a60e9eeb907d3b93b6e0e5",
    "execution": {
     "iopub.execute_input": "2020-09-24T13:47:55.404377Z",
     "iopub.status.busy": "2020-09-24T13:47:55.403293Z",
     "iopub.status.idle": "2020-09-24T13:47:55.406941Z",
     "shell.execute_reply": "2020-09-24T13:47:55.406220Z"
    },
    "papermill": {
     "duration": 0.033689,
     "end_time": "2020-09-24T13:47:55.407099",
     "exception": false,
     "start_time": "2020-09-24T13:47:55.373410",
     "status": "completed"
    },
    "tags": []
   },
   "outputs": [],
   "source": [
    "# This Python 3 environment comes with many helpful analytics libraries installed\n",
    "# It is defined by the kaggle/python Docker image: https://github.com/kaggle/docker-python\n",
    "# For example, here's several helpful packages to load\n",
    "\n",
    "import numpy as np # linear algebra\n",
    "import pandas as pd # data processing, CSV file I/O (e.g. pd.read_csv)\n",
    "\n",
    "# Input data files are available in the read-only \"../input/\" directory\n",
    "# For example, running this (by clicking run or pressing Shift+Enter) will list all files under the input directory\n",
    "\n",
    "import os\n",
    "for dirname, _, filenames in os.walk('/kaggle/input'):\n",
    "    for filename in filenames:\n",
    "        print(os.path.join(dirname, filename))\n",
    "\n",
    "# You can write up to 5GB to the current directory (/kaggle/working/) that gets preserved as output when you create a version using \"Save & Run All\" \n",
    "# You can also write temporary files to /kaggle/temp/, but they won't be saved outside of the current session"
   ]
  },
  {
   "cell_type": "code",
   "execution_count": 2,
   "metadata": {
    "_cell_guid": "79c7e3d0-c299-4dcb-8224-4455121ee9b0",
    "_uuid": "d629ff2d2480ee46fbb7e2d37f6b5fab8052498a",
    "execution": {
     "iopub.execute_input": "2020-09-24T13:47:55.454920Z",
     "iopub.status.busy": "2020-09-24T13:47:55.454091Z",
     "iopub.status.idle": "2020-09-24T13:47:56.200799Z",
     "shell.execute_reply": "2020-09-24T13:47:56.201403Z"
    },
    "papermill": {
     "duration": 0.772156,
     "end_time": "2020-09-24T13:47:56.201560",
     "exception": false,
     "start_time": "2020-09-24T13:47:55.429404",
     "status": "completed"
    },
    "tags": []
   },
   "outputs": [
    {
     "data": {
      "text/html": [
       "<div>\n",
       "<style scoped>\n",
       "    .dataframe tbody tr th:only-of-type {\n",
       "        vertical-align: middle;\n",
       "    }\n",
       "\n",
       "    .dataframe tbody tr th {\n",
       "        vertical-align: top;\n",
       "    }\n",
       "\n",
       "    .dataframe thead th {\n",
       "        text-align: right;\n",
       "    }\n",
       "</style>\n",
       "<table border=\"1\" class=\"dataframe\">\n",
       "  <thead>\n",
       "    <tr style=\"text-align: right;\">\n",
       "      <th></th>\n",
       "      <th>age</th>\n",
       "      <th>parity</th>\n",
       "      <th>hiv</th>\n",
       "      <th>menopaus</th>\n",
       "      <th>disease</th>\n",
       "      <th>surgery</th>\n",
       "      <th>conization</th>\n",
       "      <th>OPDsize</th>\n",
       "      <th>appearance</th>\n",
       "      <th>stage</th>\n",
       "      <th>...</th>\n",
       "      <th>nodeyiel</th>\n",
       "      <th>RHlvsi</th>\n",
       "      <th>depth</th>\n",
       "      <th>size</th>\n",
       "      <th>utmet</th>\n",
       "      <th>vgmargin</th>\n",
       "      <th>vgmet</th>\n",
       "      <th>pelvicme</th>\n",
       "      <th>pmmet</th>\n",
       "      <th>adnmet</th>\n",
       "    </tr>\n",
       "    <tr>\n",
       "      <th>hn</th>\n",
       "      <th></th>\n",
       "      <th></th>\n",
       "      <th></th>\n",
       "      <th></th>\n",
       "      <th></th>\n",
       "      <th></th>\n",
       "      <th></th>\n",
       "      <th></th>\n",
       "      <th></th>\n",
       "      <th></th>\n",
       "      <th></th>\n",
       "      <th></th>\n",
       "      <th></th>\n",
       "      <th></th>\n",
       "      <th></th>\n",
       "      <th></th>\n",
       "      <th></th>\n",
       "      <th></th>\n",
       "      <th></th>\n",
       "      <th></th>\n",
       "      <th></th>\n",
       "    </tr>\n",
       "  </thead>\n",
       "  <tbody>\n",
       "    <tr>\n",
       "      <th>2631840</th>\n",
       "      <td>52</td>\n",
       "      <td>3</td>\n",
       "      <td>0.0</td>\n",
       "      <td>0.0</td>\n",
       "      <td>1</td>\n",
       "      <td>1</td>\n",
       "      <td>0.0</td>\n",
       "      <td>5.0</td>\n",
       "      <td>4.0</td>\n",
       "      <td>5.0</td>\n",
       "      <td>...</td>\n",
       "      <td>21.0</td>\n",
       "      <td>0.0</td>\n",
       "      <td>3.0</td>\n",
       "      <td>6.0</td>\n",
       "      <td>0.0</td>\n",
       "      <td>0.0</td>\n",
       "      <td>0.0</td>\n",
       "      <td>0.0</td>\n",
       "      <td>0.0</td>\n",
       "      <td>0.0</td>\n",
       "    </tr>\n",
       "    <tr>\n",
       "      <th>2633481</th>\n",
       "      <td>32</td>\n",
       "      <td>2</td>\n",
       "      <td>0.0</td>\n",
       "      <td>0.0</td>\n",
       "      <td>0</td>\n",
       "      <td>1</td>\n",
       "      <td>0.0</td>\n",
       "      <td>5.0</td>\n",
       "      <td>1.0</td>\n",
       "      <td>5.0</td>\n",
       "      <td>...</td>\n",
       "      <td>11.0</td>\n",
       "      <td>0.0</td>\n",
       "      <td>3.0</td>\n",
       "      <td>5.0</td>\n",
       "      <td>0.0</td>\n",
       "      <td>0.0</td>\n",
       "      <td>0.0</td>\n",
       "      <td>1.0</td>\n",
       "      <td>0.0</td>\n",
       "      <td>2.0</td>\n",
       "    </tr>\n",
       "    <tr>\n",
       "      <th>2634477</th>\n",
       "      <td>52</td>\n",
       "      <td>2</td>\n",
       "      <td>0.0</td>\n",
       "      <td>0.0</td>\n",
       "      <td>0</td>\n",
       "      <td>0</td>\n",
       "      <td>0.0</td>\n",
       "      <td>5.0</td>\n",
       "      <td>NaN</td>\n",
       "      <td>5.0</td>\n",
       "      <td>...</td>\n",
       "      <td>35.0</td>\n",
       "      <td>6.0</td>\n",
       "      <td>3.0</td>\n",
       "      <td>4.0</td>\n",
       "      <td>0.0</td>\n",
       "      <td>0.0</td>\n",
       "      <td>0.0</td>\n",
       "      <td>0.0</td>\n",
       "      <td>0.0</td>\n",
       "      <td>0.0</td>\n",
       "    </tr>\n",
       "    <tr>\n",
       "      <th>2633633</th>\n",
       "      <td>38</td>\n",
       "      <td>2</td>\n",
       "      <td>0.0</td>\n",
       "      <td>0.0</td>\n",
       "      <td>0</td>\n",
       "      <td>0</td>\n",
       "      <td>0.0</td>\n",
       "      <td>2.0</td>\n",
       "      <td>1.0</td>\n",
       "      <td>4.0</td>\n",
       "      <td>...</td>\n",
       "      <td>20.0</td>\n",
       "      <td>16.0</td>\n",
       "      <td>3.0</td>\n",
       "      <td>3.8</td>\n",
       "      <td>0.0</td>\n",
       "      <td>0.0</td>\n",
       "      <td>0.0</td>\n",
       "      <td>0.0</td>\n",
       "      <td>0.0</td>\n",
       "      <td>2.0</td>\n",
       "    </tr>\n",
       "    <tr>\n",
       "      <th>2630496</th>\n",
       "      <td>55</td>\n",
       "      <td>3</td>\n",
       "      <td>0.0</td>\n",
       "      <td>1.0</td>\n",
       "      <td>0</td>\n",
       "      <td>0</td>\n",
       "      <td>1.0</td>\n",
       "      <td>0.0</td>\n",
       "      <td>5.0</td>\n",
       "      <td>4.0</td>\n",
       "      <td>...</td>\n",
       "      <td>17.0</td>\n",
       "      <td>9.0</td>\n",
       "      <td>3.0</td>\n",
       "      <td>0.0</td>\n",
       "      <td>0.0</td>\n",
       "      <td>0.0</td>\n",
       "      <td>0.0</td>\n",
       "      <td>1.0</td>\n",
       "      <td>0.0</td>\n",
       "      <td>0.0</td>\n",
       "    </tr>\n",
       "  </tbody>\n",
       "</table>\n",
       "<p>5 rows × 23 columns</p>\n",
       "</div>"
      ],
      "text/plain": [
       "         age  parity  hiv  menopaus  disease  surgery  conization  OPDsize  \\\n",
       "hn                                                                           \n",
       "2631840   52       3  0.0       0.0        1        1         0.0      5.0   \n",
       "2633481   32       2  0.0       0.0        0        1         0.0      5.0   \n",
       "2634477   52       2  0.0       0.0        0        0         0.0      5.0   \n",
       "2633633   38       2  0.0       0.0        0        0         0.0      2.0   \n",
       "2630496   55       3  0.0       1.0        0        0         1.0      0.0   \n",
       "\n",
       "         appearance  stage  ...  nodeyiel  RHlvsi  depth  size  utmet  \\\n",
       "hn                          ...                                         \n",
       "2631840         4.0    5.0  ...      21.0     0.0    3.0   6.0    0.0   \n",
       "2633481         1.0    5.0  ...      11.0     0.0    3.0   5.0    0.0   \n",
       "2634477         NaN    5.0  ...      35.0     6.0    3.0   4.0    0.0   \n",
       "2633633         1.0    4.0  ...      20.0    16.0    3.0   3.8    0.0   \n",
       "2630496         5.0    4.0  ...      17.0     9.0    3.0   0.0    0.0   \n",
       "\n",
       "         vgmargin  vgmet  pelvicme  pmmet  adnmet  \n",
       "hn                                                 \n",
       "2631840       0.0    0.0       0.0    0.0     0.0  \n",
       "2633481       0.0    0.0       1.0    0.0     2.0  \n",
       "2634477       0.0    0.0       0.0    0.0     0.0  \n",
       "2633633       0.0    0.0       0.0    0.0     2.0  \n",
       "2630496       0.0    0.0       1.0    0.0     0.0  \n",
       "\n",
       "[5 rows x 23 columns]"
      ]
     },
     "execution_count": 2,
     "metadata": {},
     "output_type": "execute_result"
    }
   ],
   "source": [
    "df = pd.read_csv('https://raw.githubusercontent.com/plenoi/Clinic/master/ultima_all_clean.csv')\n",
    "df = df.set_index('hn')\n",
    "df.head()"
   ]
  },
  {
   "cell_type": "code",
   "execution_count": 3,
   "metadata": {
    "execution": {
     "iopub.execute_input": "2020-09-24T13:47:56.255752Z",
     "iopub.status.busy": "2020-09-24T13:47:56.254656Z",
     "iopub.status.idle": "2020-09-24T13:47:56.263018Z",
     "shell.execute_reply": "2020-09-24T13:47:56.262435Z"
    },
    "papermill": {
     "duration": 0.036507,
     "end_time": "2020-09-24T13:47:56.263149",
     "exception": false,
     "start_time": "2020-09-24T13:47:56.226642",
     "status": "completed"
    },
    "tags": []
   },
   "outputs": [
    {
     "data": {
      "text/plain": [
       "age             0\n",
       "parity          0\n",
       "hiv             4\n",
       "menopaus        1\n",
       "disease         0\n",
       "surgery         0\n",
       "conization      5\n",
       "OPDsize        17\n",
       "appearance    101\n",
       "stage          24\n",
       "pchemo          1\n",
       "Wardsize      145\n",
       "finalhisto     10\n",
       "nodeyiel       12\n",
       "RHlvsi        366\n",
       "depth         489\n",
       "size          114\n",
       "utmet          98\n",
       "vgmargin       96\n",
       "vgmet          97\n",
       "pelvicme        1\n",
       "pmmet          94\n",
       "adnmet          7\n",
       "dtype: int64"
      ]
     },
     "execution_count": 3,
     "metadata": {},
     "output_type": "execute_result"
    }
   ],
   "source": [
    "df.isnull().sum(axis=0)"
   ]
  },
  {
   "cell_type": "code",
   "execution_count": 4,
   "metadata": {
    "execution": {
     "iopub.execute_input": "2020-09-24T13:47:56.320292Z",
     "iopub.status.busy": "2020-09-24T13:47:56.318887Z",
     "iopub.status.idle": "2020-09-24T13:47:56.348243Z",
     "shell.execute_reply": "2020-09-24T13:47:56.347542Z"
    },
    "papermill": {
     "duration": 0.061967,
     "end_time": "2020-09-24T13:47:56.348376",
     "exception": false,
     "start_time": "2020-09-24T13:47:56.286409",
     "status": "completed"
    },
    "tags": []
   },
   "outputs": [],
   "source": [
    "df_clean_column = df.drop(['appearance','Wardsize','RHlvsi','depth','nodeyiel','vgmargin','pelvicme','adnmet'],axis = 1)\n",
    "df_clean = df_clean_column.dropna(axis = 0)"
   ]
  },
  {
   "cell_type": "code",
   "execution_count": 5,
   "metadata": {
    "execution": {
     "iopub.execute_input": "2020-09-24T13:47:56.397320Z",
     "iopub.status.busy": "2020-09-24T13:47:56.396645Z",
     "iopub.status.idle": "2020-09-24T13:47:56.405496Z",
     "shell.execute_reply": "2020-09-24T13:47:56.406081Z"
    },
    "papermill": {
     "duration": 0.034994,
     "end_time": "2020-09-24T13:47:56.406237",
     "exception": false,
     "start_time": "2020-09-24T13:47:56.371243",
     "status": "completed"
    },
    "tags": []
   },
   "outputs": [],
   "source": [
    "pm_class = np.unique(df_clean['pmmet'])\n",
    "pm_value = [sum(df_clean['pmmet']==pm_class[0]),\n",
    "            sum(df_clean['pmmet']==pm_class[1])]\n",
    "y = df_clean['pmmet'].values\n",
    "X = df_clean.drop(['pmmet'],axis = 1).values"
   ]
  },
  {
   "cell_type": "code",
   "execution_count": 6,
   "metadata": {
    "execution": {
     "iopub.execute_input": "2020-09-24T13:47:56.456640Z",
     "iopub.status.busy": "2020-09-24T13:47:56.456004Z",
     "iopub.status.idle": "2020-09-24T13:47:57.882342Z",
     "shell.execute_reply": "2020-09-24T13:47:57.881625Z"
    },
    "papermill": {
     "duration": 1.451983,
     "end_time": "2020-09-24T13:47:57.882462",
     "exception": false,
     "start_time": "2020-09-24T13:47:56.430479",
     "status": "completed"
    },
    "tags": []
   },
   "outputs": [
    {
     "name": "stdout",
     "output_type": "stream",
     "text": [
      "(2556, 14) (2556,)\n"
     ]
    }
   ],
   "source": [
    "from sklearn.model_selection import train_test_split\n",
    "from imblearn.over_sampling import SMOTE\n",
    "from sklearn.feature_selection import SelectKBest\n",
    "from sklearn.feature_selection import chi2\n",
    "sm = SMOTE(random_state=1)\n",
    "X_res, Y_res = sm.fit_resample(X, y)\n",
    "X_train, X_test, y_train, y_test = train_test_split(X_res,Y_res,test_size=0.2,random_state=0)\n",
    "\n",
    "print(X_res.shape,Y_res.shape)"
   ]
  },
  {
   "cell_type": "code",
   "execution_count": 7,
   "metadata": {
    "execution": {
     "iopub.execute_input": "2020-09-24T13:47:57.933717Z",
     "iopub.status.busy": "2020-09-24T13:47:57.932999Z",
     "iopub.status.idle": "2020-09-24T13:47:57.936446Z",
     "shell.execute_reply": "2020-09-24T13:47:57.935933Z"
    },
    "papermill": {
     "duration": 0.030982,
     "end_time": "2020-09-24T13:47:57.936565",
     "exception": false,
     "start_time": "2020-09-24T13:47:57.905583",
     "status": "completed"
    },
    "tags": []
   },
   "outputs": [],
   "source": [
    "# fs = SelectKBest(chi2, k=2)\n",
    "# fs.fit(X_train,y_train)\n",
    "# X_train = fs.transform(X_train)\n",
    "# X_test = fs.transform(X_test)\n"
   ]
  },
  {
   "cell_type": "code",
   "execution_count": 8,
   "metadata": {
    "execution": {
     "iopub.execute_input": "2020-09-24T13:47:57.991225Z",
     "iopub.status.busy": "2020-09-24T13:47:57.990369Z",
     "iopub.status.idle": "2020-09-24T13:47:57.995110Z",
     "shell.execute_reply": "2020-09-24T13:47:57.994533Z"
    },
    "papermill": {
     "duration": 0.034977,
     "end_time": "2020-09-24T13:47:57.995233",
     "exception": false,
     "start_time": "2020-09-24T13:47:57.960256",
     "status": "completed"
    },
    "tags": []
   },
   "outputs": [],
   "source": [
    "\n",
    "from sklearn.preprocessing import MinMaxScaler\n",
    "scaler = MinMaxScaler(feature_range=(0, 1))\n",
    "scaler.fit(X_train)\n",
    "X_train_norm = scaler.transform(X_train)\n",
    "X_test_norm = scaler.transform(X_test)"
   ]
  },
  {
   "cell_type": "markdown",
   "metadata": {
    "papermill": {
     "duration": 0.023099,
     "end_time": "2020-09-24T13:47:58.042214",
     "exception": false,
     "start_time": "2020-09-24T13:47:58.019115",
     "status": "completed"
    },
    "tags": []
   },
   "source": [
    "# Logis"
   ]
  },
  {
   "cell_type": "code",
   "execution_count": 9,
   "metadata": {
    "execution": {
     "iopub.execute_input": "2020-09-24T13:47:58.092938Z",
     "iopub.status.busy": "2020-09-24T13:47:58.091962Z",
     "iopub.status.idle": "2020-09-24T13:47:58.095479Z",
     "shell.execute_reply": "2020-09-24T13:47:58.095955Z"
    },
    "papermill": {
     "duration": 0.030547,
     "end_time": "2020-09-24T13:47:58.096107",
     "exception": false,
     "start_time": "2020-09-24T13:47:58.065560",
     "status": "completed"
    },
    "tags": []
   },
   "outputs": [],
   "source": [
    "# from sklearn import svm\n",
    "# clf = svm.SVC(kernel='linear', C=5).fit(X_train, y_train)\n",
    "# clf.score(X_test, y_test)"
   ]
  },
  {
   "cell_type": "code",
   "execution_count": 10,
   "metadata": {
    "execution": {
     "iopub.execute_input": "2020-09-24T13:47:58.147014Z",
     "iopub.status.busy": "2020-09-24T13:47:58.146012Z",
     "iopub.status.idle": "2020-09-24T13:47:58.559054Z",
     "shell.execute_reply": "2020-09-24T13:47:58.558397Z"
    },
    "papermill": {
     "duration": 0.439617,
     "end_time": "2020-09-24T13:47:58.559187",
     "exception": false,
     "start_time": "2020-09-24T13:47:58.119570",
     "status": "completed"
    },
    "tags": []
   },
   "outputs": [
    {
     "name": "stdout",
     "output_type": "stream",
     "text": [
      "Best params : {'C': 1}\n",
      "10CV accuracy : 76.17479674796748\n"
     ]
    }
   ],
   "source": [
    "from sklearn.linear_model import LogisticRegression\n",
    "from sklearn.model_selection import GridSearchCV\n",
    "from sklearn.metrics import classification_report\n",
    "from sklearn.metrics import confusion_matrix\n",
    "params = {'C': [1, 2, 6, 8, 16]}\n",
    "clf = GridSearchCV(LogisticRegression(random_state=0, solver='liblinear'),params, cv=10)\n",
    "clf.fit(X_train_norm, y_train)\n",
    "print(\"Best params : \" + str(clf.best_params_))\n",
    "print(\"10CV accuracy : \"+str(clf.best_score_*100))"
   ]
  },
  {
   "cell_type": "code",
   "execution_count": 11,
   "metadata": {
    "execution": {
     "iopub.execute_input": "2020-09-24T13:47:58.621157Z",
     "iopub.status.busy": "2020-09-24T13:47:58.619557Z",
     "iopub.status.idle": "2020-09-24T13:47:58.647678Z",
     "shell.execute_reply": "2020-09-24T13:47:58.647021Z"
    },
    "papermill": {
     "duration": 0.06146,
     "end_time": "2020-09-24T13:47:58.647809",
     "exception": false,
     "start_time": "2020-09-24T13:47:58.586349",
     "status": "completed"
    },
    "tags": []
   },
   "outputs": [
    {
     "name": "stdout",
     "output_type": "stream",
     "text": [
      "Test accuracy : 78.7109375\n"
     ]
    }
   ],
   "source": [
    "from sklearn.metrics import classification_report\n",
    "from sklearn.metrics import confusion_matrix\n",
    "y_predict = clf.predict(X_test_norm)\n",
    "print(\"Test accuracy : \"+str(sum(y_test == y_predict)/len(y_test)*100))"
   ]
  },
  {
   "cell_type": "code",
   "execution_count": 12,
   "metadata": {
    "execution": {
     "iopub.execute_input": "2020-09-24T13:47:58.707609Z",
     "iopub.status.busy": "2020-09-24T13:47:58.706855Z",
     "iopub.status.idle": "2020-09-24T13:47:59.087463Z",
     "shell.execute_reply": "2020-09-24T13:47:59.086687Z"
    },
    "papermill": {
     "duration": 0.411808,
     "end_time": "2020-09-24T13:47:59.087589",
     "exception": false,
     "start_time": "2020-09-24T13:47:58.675781",
     "status": "completed"
    },
    "tags": []
   },
   "outputs": [
    {
     "data": {
      "image/png": "[encoded data removed]",
      "text/plain": [
       "<Figure size 432x288 with 2 Axes>"
      ]
     },
     "metadata": {
      "needs_background": "light"
     },
     "output_type": "display_data"
    }
   ],
   "source": [
    "from sklearn.metrics import confusion_matrix\n",
    "import matplotlib.pyplot as plt\n",
    "import seaborn as sns\n",
    "target_names = ['negative', 'positive']\n",
    "C = confusion_matrix(y_test,y_predict) \n",
    "C = C / C.astype(np.float).sum(axis=1)*100\n",
    "sns.heatmap(C, annot=True, fmt=\"f\",cmap=\"GnBu\",xticklabels=target_names, yticklabels=target_names)\n",
    "plt.ylabel(\"True Label\")\n",
    "plt.xlabel(\"Predicted Label\")\n",
    "plt.show()"
   ]
  },
  {
   "cell_type": "code",
   "execution_count": 13,
   "metadata": {
    "execution": {
     "iopub.execute_input": "2020-09-24T13:47:59.147662Z",
     "iopub.status.busy": "2020-09-24T13:47:59.146607Z",
     "iopub.status.idle": "2020-09-24T13:47:59.158434Z",
     "shell.execute_reply": "2020-09-24T13:47:59.157294Z"
    },
    "papermill": {
     "duration": 0.042691,
     "end_time": "2020-09-24T13:47:59.158660",
     "exception": false,
     "start_time": "2020-09-24T13:47:59.115969",
     "status": "completed"
    },
    "tags": []
   },
   "outputs": [
    {
     "name": "stdout",
     "output_type": "stream",
     "text": [
      "              precision    recall  f1-score   support\n",
      "\n",
      "    negative       0.81      0.75      0.78       257\n",
      "    positive       0.77      0.82      0.79       255\n",
      "\n",
      "    accuracy                           0.79       512\n",
      "   macro avg       0.79      0.79      0.79       512\n",
      "weighted avg       0.79      0.79      0.79       512\n",
      "\n"
     ]
    }
   ],
   "source": [
    "print(classification_report(y_test, y_predict, target_names=target_names))"
   ]
  },
  {
   "cell_type": "markdown",
   "metadata": {
    "papermill": {
     "duration": 0.025833,
     "end_time": "2020-09-24T13:47:59.212695",
     "exception": false,
     "start_time": "2020-09-24T13:47:59.186862",
     "status": "completed"
    },
    "tags": []
   },
   "source": [
    "SVM"
   ]
  },
  {
   "cell_type": "code",
   "execution_count": 14,
   "metadata": {
    "execution": {
     "iopub.execute_input": "2020-09-24T13:47:59.275577Z",
     "iopub.status.busy": "2020-09-24T13:47:59.274130Z",
     "iopub.status.idle": "2020-09-24T13:49:37.449072Z",
     "shell.execute_reply": "2020-09-24T13:49:37.449628Z"
    },
    "papermill": {
     "duration": 98.211054,
     "end_time": "2020-09-24T13:49:37.449800",
     "exception": false,
     "start_time": "2020-09-24T13:47:59.238746",
     "status": "completed"
    },
    "tags": []
   },
   "outputs": [
    {
     "name": "stdout",
     "output_type": "stream",
     "text": [
      "Best params : {'C': 4, 'gamma': 15}\n",
      "10CV accuracy : 89.23720707795313\n"
     ]
    }
   ],
   "source": [
    "from sklearn.svm import SVC\n",
    "from sklearn.model_selection import GridSearchCV\n",
    "params = {\n",
    "    'C' : [1,2,4,8,16,32], # High C = Overfitting\n",
    "    'gamma' : [0.03125, 0.0625, 0.125, 0.25, 0.5, 1, 2, 4, 8, 15, 32] # High gamma = Overfitting\n",
    "}\n",
    "clf = GridSearchCV(SVC(),params, cv=10)\n",
    "clf.fit(X_train_norm, y_train)\n",
    "print(\"Best params : \" + str(clf.best_params_))\n",
    "print(\"10CV accuracy : \"+str(clf.best_score_*100))"
   ]
  },
  {
   "cell_type": "code",
   "execution_count": 15,
   "metadata": {
    "execution": {
     "iopub.execute_input": "2020-09-24T13:49:37.510144Z",
     "iopub.status.busy": "2020-09-24T13:49:37.509396Z",
     "iopub.status.idle": "2020-09-24T13:49:37.547435Z",
     "shell.execute_reply": "2020-09-24T13:49:37.546813Z"
    },
    "papermill": {
     "duration": 0.071363,
     "end_time": "2020-09-24T13:49:37.547565",
     "exception": false,
     "start_time": "2020-09-24T13:49:37.476202",
     "status": "completed"
    },
    "tags": []
   },
   "outputs": [
    {
     "data": {
      "text/plain": [
       "0.912109375"
      ]
     },
     "execution_count": 15,
     "metadata": {},
     "output_type": "execute_result"
    }
   ],
   "source": [
    "from sklearn.metrics import classification_report\n",
    "from sklearn.metrics import confusion_matrix\n",
    "y_predict = clf.predict(X_test_norm)\n",
    "target_names = ['negative', 'positive']\n",
    "sum(y_test == y_predict)/len(y_test)"
   ]
  },
  {
   "cell_type": "code",
   "execution_count": 16,
   "metadata": {
    "execution": {
     "iopub.execute_input": "2020-09-24T13:49:37.611455Z",
     "iopub.status.busy": "2020-09-24T13:49:37.610671Z",
     "iopub.status.idle": "2020-09-24T13:49:37.818168Z",
     "shell.execute_reply": "2020-09-24T13:49:37.817437Z"
    },
    "papermill": {
     "duration": 0.243169,
     "end_time": "2020-09-24T13:49:37.818301",
     "exception": false,
     "start_time": "2020-09-24T13:49:37.575132",
     "status": "completed"
    },
    "tags": []
   },
   "outputs": [
    {
     "data": {
      "image/png": "[encoded data removed]",
      "text/plain": [
       "<Figure size 432x288 with 2 Axes>"
      ]
     },
     "metadata": {
      "needs_background": "light"
     },
     "output_type": "display_data"
    }
   ],
   "source": [
    "from sklearn.metrics import confusion_matrix\n",
    "import matplotlib.pyplot as plt\n",
    "import seaborn as sns\n",
    "target_names = ['negative', 'positive']\n",
    "C = confusion_matrix(y_test,y_predict) \n",
    "C = C / C.astype(np.float).sum(axis=1)*100\n",
    "sns.heatmap(C, annot=True, fmt=\".2f\",cmap=\"GnBu\",xticklabels=target_names, yticklabels=target_names)\n",
    "plt.ylabel(\"True Label\")\n",
    "plt.xlabel(\"Predicted Label\")\n",
    "plt.show()"
   ]
  },
  {
   "cell_type": "code",
   "execution_count": 17,
   "metadata": {
    "execution": {
     "iopub.execute_input": "2020-09-24T13:49:37.888880Z",
     "iopub.status.busy": "2020-09-24T13:49:37.888199Z",
     "iopub.status.idle": "2020-09-24T13:49:37.900740Z",
     "shell.execute_reply": "2020-09-24T13:49:37.899452Z"
    },
    "papermill": {
     "duration": 0.046079,
     "end_time": "2020-09-24T13:49:37.900946",
     "exception": false,
     "start_time": "2020-09-24T13:49:37.854867",
     "status": "completed"
    },
    "tags": []
   },
   "outputs": [
    {
     "name": "stdout",
     "output_type": "stream",
     "text": [
      "              precision    recall  f1-score   support\n",
      "\n",
      "    negative       0.92      0.91      0.91       257\n",
      "    positive       0.91      0.92      0.91       255\n",
      "\n",
      "    accuracy                           0.91       512\n",
      "   macro avg       0.91      0.91      0.91       512\n",
      "weighted avg       0.91      0.91      0.91       512\n",
      "\n"
     ]
    }
   ],
   "source": [
    "print(classification_report(y_test, y_predict, target_names=target_names))"
   ]
  },
  {
   "cell_type": "markdown",
   "metadata": {
    "papermill": {
     "duration": 0.029601,
     "end_time": "2020-09-24T13:49:37.959268",
     "exception": false,
     "start_time": "2020-09-24T13:49:37.929667",
     "status": "completed"
    },
    "tags": []
   },
   "source": [
    "random Forest"
   ]
  },
  {
   "cell_type": "code",
   "execution_count": 18,
   "metadata": {
    "execution": {
     "iopub.execute_input": "2020-09-24T13:49:38.030631Z",
     "iopub.status.busy": "2020-09-24T13:49:38.028892Z",
     "iopub.status.idle": "2020-09-24T14:13:25.406730Z",
     "shell.execute_reply": "2020-09-24T14:13:25.407393Z"
    },
    "papermill": {
     "duration": 1427.419435,
     "end_time": "2020-09-24T14:13:25.407577",
     "exception": false,
     "start_time": "2020-09-24T13:49:37.988142",
     "status": "completed"
    },
    "tags": []
   },
   "outputs": [
    {
     "name": "stdout",
     "output_type": "stream",
     "text": [
      "Best params : {'criterion': 'entropy', 'max_features': 'sqrt', 'min_samples_leaf': 1, 'n_estimators': 100}\n",
      "10CV accuracy : 91.29124820659969\n"
     ]
    }
   ],
   "source": [
    "from sklearn.ensemble import RandomForestClassifier\n",
    "from sklearn.model_selection import GridSearchCV\n",
    "params = {\n",
    "    'n_estimators' : [10,50,100,200,500],\n",
    "    'min_samples_leaf' : [1,2,4,8,16,32],\n",
    "    'max_features' : ['sqrt',0.5,0.8],\n",
    "    'criterion' : ['gini','entropy']\n",
    "}\n",
    "clf = GridSearchCV(RandomForestClassifier(random_state=0),params, cv = 10)\n",
    "clf.fit(X_train_norm, y_train)\n",
    "print(\"Best params : \" + str(clf.best_params_))\n",
    "print(\"10CV accuracy : \"+str(clf.best_score_*100))"
   ]
  },
  {
   "cell_type": "code",
   "execution_count": 19,
   "metadata": {
    "execution": {
     "iopub.execute_input": "2020-09-24T14:13:25.486154Z",
     "iopub.status.busy": "2020-09-24T14:13:25.485009Z",
     "iopub.status.idle": "2020-09-24T14:13:25.512566Z",
     "shell.execute_reply": "2020-09-24T14:13:25.511815Z"
    },
    "papermill": {
     "duration": 0.069641,
     "end_time": "2020-09-24T14:13:25.512704",
     "exception": false,
     "start_time": "2020-09-24T14:13:25.443063",
     "status": "completed"
    },
    "tags": []
   },
   "outputs": [
    {
     "data": {
      "text/plain": [
       "0.90625"
      ]
     },
     "execution_count": 19,
     "metadata": {},
     "output_type": "execute_result"
    }
   ],
   "source": [
    "from sklearn.metrics import classification_report\n",
    "from sklearn.metrics import confusion_matrix\n",
    "y_predict = clf.predict(X_test_norm)\n",
    "target_names = ['negative', 'positive']\n",
    "sum(y_test == y_predict)/len(y_test)"
   ]
  },
  {
   "cell_type": "code",
   "execution_count": 20,
   "metadata": {
    "execution": {
     "iopub.execute_input": "2020-09-24T14:13:25.581872Z",
     "iopub.status.busy": "2020-09-24T14:13:25.581090Z",
     "iopub.status.idle": "2020-09-24T14:13:25.792359Z",
     "shell.execute_reply": "2020-09-24T14:13:25.792894Z"
    },
    "papermill": {
     "duration": 0.246476,
     "end_time": "2020-09-24T14:13:25.793052",
     "exception": false,
     "start_time": "2020-09-24T14:13:25.546576",
     "status": "completed"
    },
    "tags": []
   },
   "outputs": [
    {
     "data": {
      "image/png": "[encoded data removed]",
      "text/plain": [
       "<Figure size 432x288 with 2 Axes>"
      ]
     },
     "metadata": {
      "needs_background": "light"
     },
     "output_type": "display_data"
    }
   ],
   "source": [
    "from sklearn.metrics import confusion_matrix\n",
    "import matplotlib.pyplot as plt\n",
    "import seaborn as sns\n",
    "target_names = ['negative', 'positive']\n",
    "C = confusion_matrix(y_test,y_predict) \n",
    "C = C / C.astype(np.float).sum(axis=1)*100\n",
    "sns.heatmap(C, annot=True, fmt=\".2f\",cmap=\"GnBu\",xticklabels=target_names, yticklabels=target_names)\n",
    "plt.ylabel(\"True Label\")\n",
    "plt.xlabel(\"Predicted Label\")\n",
    "plt.show()"
   ]
  },
  {
   "cell_type": "code",
   "execution_count": 21,
   "metadata": {
    "execution": {
     "iopub.execute_input": "2020-09-24T14:13:25.858219Z",
     "iopub.status.busy": "2020-09-24T14:13:25.857580Z",
     "iopub.status.idle": "2020-09-24T14:13:25.870308Z",
     "shell.execute_reply": "2020-09-24T14:13:25.869421Z"
    },
    "papermill": {
     "duration": 0.046515,
     "end_time": "2020-09-24T14:13:25.870454",
     "exception": false,
     "start_time": "2020-09-24T14:13:25.823939",
     "status": "completed"
    },
    "tags": []
   },
   "outputs": [
    {
     "name": "stdout",
     "output_type": "stream",
     "text": [
      "              precision    recall  f1-score   support\n",
      "\n",
      "    negative       0.90      0.91      0.91       257\n",
      "    positive       0.91      0.90      0.91       255\n",
      "\n",
      "    accuracy                           0.91       512\n",
      "   macro avg       0.91      0.91      0.91       512\n",
      "weighted avg       0.91      0.91      0.91       512\n",
      "\n"
     ]
    }
   ],
   "source": [
    "print(classification_report(y_test, y_predict, target_names=target_names))"
   ]
  },
  {
   "cell_type": "markdown",
   "metadata": {
    "papermill": {
     "duration": 0.030845,
     "end_time": "2020-09-24T14:13:25.932618",
     "exception": false,
     "start_time": "2020-09-24T14:13:25.901773",
     "status": "completed"
    },
    "tags": []
   },
   "source": [
    "XG Boost"
   ]
  },
  {
   "cell_type": "code",
   "execution_count": 22,
   "metadata": {
    "execution": {
     "iopub.execute_input": "2020-09-24T14:13:26.008006Z",
     "iopub.status.busy": "2020-09-24T14:13:26.006820Z",
     "iopub.status.idle": "2020-09-24T14:22:20.550536Z",
     "shell.execute_reply": "2020-09-24T14:22:20.551310Z"
    },
    "papermill": {
     "duration": 534.586913,
     "end_time": "2020-09-24T14:22:20.551497",
     "exception": false,
     "start_time": "2020-09-24T14:13:25.964584",
     "status": "completed"
    },
    "tags": []
   },
   "outputs": [
    {
     "name": "stdout",
     "output_type": "stream",
     "text": [
      "Best params : {'colsample_bytree': 0.5, 'learning_rate': 0.1, 'max_depth': 8, 'n_estimators': 50, 'subsample': 1}\n",
      "10CV accuracy : 90.26279292204687\n"
     ]
    }
   ],
   "source": [
    "import xgboost as xgb\n",
    "from sklearn.model_selection import GridSearchCV\n",
    "params = {\n",
    "    'n_estimators' : [10,50,100,200],\n",
    "    'max_depth' : [2, 4, 8],\n",
    "    'learning_rate' : [0.001, 0.01, 0.1],\n",
    "    'subsample' : [0.5,0.8, 1],\n",
    "    'colsample_bytree' : [0.5, 0.8, 1]    \n",
    "}\n",
    "clf = GridSearchCV(xgb.XGBClassifier(random_state=0, objective='binary:logistic',n_jobs=-1),params, cv = 10)\n",
    "clf.fit(X_train_norm, y_train)\n",
    "print(\"Best params : \" + str(clf.best_params_))\n",
    "print(\"10CV accuracy : \"+str(clf.best_score_*100))"
   ]
  },
  {
   "cell_type": "code",
   "execution_count": 23,
   "metadata": {
    "execution": {
     "iopub.execute_input": "2020-09-24T14:22:20.619446Z",
     "iopub.status.busy": "2020-09-24T14:22:20.618713Z",
     "iopub.status.idle": "2020-09-24T14:22:20.633788Z",
     "shell.execute_reply": "2020-09-24T14:22:20.634354Z"
    },
    "papermill": {
     "duration": 0.05119,
     "end_time": "2020-09-24T14:22:20.634533",
     "exception": false,
     "start_time": "2020-09-24T14:22:20.583343",
     "status": "completed"
    },
    "tags": []
   },
   "outputs": [
    {
     "data": {
      "text/plain": [
       "0.908203125"
      ]
     },
     "execution_count": 23,
     "metadata": {},
     "output_type": "execute_result"
    }
   ],
   "source": [
    "\n",
    "from sklearn.metrics import classification_report\n",
    "from sklearn.metrics import confusion_matrix\n",
    "y_predict = clf.predict(X_test_norm)\n",
    "target_names = ['negative', 'positive']\n",
    "sum(y_test == y_predict)/len(y_test)"
   ]
  },
  {
   "cell_type": "code",
   "execution_count": 24,
   "metadata": {
    "execution": {
     "iopub.execute_input": "2020-09-24T14:22:20.703127Z",
     "iopub.status.busy": "2020-09-24T14:22:20.702376Z",
     "iopub.status.idle": "2020-09-24T14:22:20.906991Z",
     "shell.execute_reply": "2020-09-24T14:22:20.907501Z"
    },
    "papermill": {
     "duration": 0.240468,
     "end_time": "2020-09-24T14:22:20.907866",
     "exception": false,
     "start_time": "2020-09-24T14:22:20.667398",
     "status": "completed"
    },
    "tags": []
   },
   "outputs": [
    {
     "data": {
      "image/png": "[encoded data removed]",
      "text/plain": [
       "<Figure size 432x288 with 2 Axes>"
      ]
     },
     "metadata": {
      "needs_background": "light"
     },
     "output_type": "display_data"
    }
   ],
   "source": [
    "from sklearn.metrics import confusion_matrix\n",
    "import matplotlib.pyplot as plt\n",
    "import seaborn as sns\n",
    "target_names = ['negative', 'positive']\n",
    "C = confusion_matrix(y_test,y_predict) \n",
    "C = C / C.astype(np.float).sum(axis=1)*100\n",
    "sns.heatmap(C, annot=True, fmt=\".2f\",cmap=\"GnBu\",xticklabels=target_names, yticklabels=target_names)\n",
    "plt.ylabel(\"True Label\")\n",
    "plt.xlabel(\"Predicted Label\")\n",
    "plt.show()"
   ]
  },
  {
   "cell_type": "code",
   "execution_count": 25,
   "metadata": {
    "execution": {
     "iopub.execute_input": "2020-09-24T14:22:20.980433Z",
     "iopub.status.busy": "2020-09-24T14:22:20.979233Z",
     "iopub.status.idle": "2020-09-24T14:22:20.992638Z",
     "shell.execute_reply": "2020-09-24T14:22:20.991684Z"
    },
    "papermill": {
     "duration": 0.049889,
     "end_time": "2020-09-24T14:22:20.992822",
     "exception": false,
     "start_time": "2020-09-24T14:22:20.942933",
     "status": "completed"
    },
    "tags": []
   },
   "outputs": [
    {
     "name": "stdout",
     "output_type": "stream",
     "text": [
      "              precision    recall  f1-score   support\n",
      "\n",
      "    negative       0.90      0.92      0.91       257\n",
      "    positive       0.92      0.89      0.91       255\n",
      "\n",
      "    accuracy                           0.91       512\n",
      "   macro avg       0.91      0.91      0.91       512\n",
      "weighted avg       0.91      0.91      0.91       512\n",
      "\n"
     ]
    }
   ],
   "source": [
    "\n",
    "print(classification_report(y_test, y_predict, target_names=target_names))"
   ]
  },
  {
   "cell_type": "markdown",
   "metadata": {
    "papermill": {
     "duration": 0.039952,
     "end_time": "2020-09-24T14:22:21.072966",
     "exception": false,
     "start_time": "2020-09-24T14:22:21.033014",
     "status": "completed"
    },
    "tags": []
   },
   "source": [
    "cat boost"
   ]
  },
  {
   "cell_type": "code",
   "execution_count": 26,
   "metadata": {
    "execution": {
     "iopub.execute_input": "2020-09-24T14:22:21.152595Z",
     "iopub.status.busy": "2020-09-24T14:22:21.151907Z",
     "iopub.status.idle": "2020-09-24T15:00:33.435010Z",
     "shell.execute_reply": "2020-09-24T15:00:33.435986Z"
    },
    "papermill": {
     "duration": 2292.324758,
     "end_time": "2020-09-24T15:00:33.436267",
     "exception": false,
     "start_time": "2020-09-24T14:22:21.111509",
     "status": "completed"
    },
    "tags": []
   },
   "outputs": [
    {
     "name": "stdout",
     "output_type": "stream",
     "text": [
      "best params search time: 0:38:12.039211\n",
      "Best params : {'depth': 10, 'iterations': 500, 'learning_rate': 0.9}\n",
      "10CV accuracy : 90.70492587278814\n"
     ]
    }
   ],
   "source": [
    "from sklearn.model_selection import GridSearchCV\n",
    "from catboost import CatBoostClassifier\n",
    "from datetime import datetime\n",
    "params = {\n",
    "    'iterations' : [200,500],\n",
    "    'depth' : [9,10,11,12],\n",
    "    'learning_rate':[0.9,1],  \n",
    "}\n",
    "start=datetime.now()\n",
    "clf = GridSearchCV(CatBoostClassifier(random_state=0,verbose=False),params, cv = 10)\n",
    "clf.fit(X_train_norm, y_train)\n",
    "print('best params search time: '+str(datetime.now()-start))\n",
    "print(\"Best params : \" + str(clf.best_params_))\n",
    "\n",
    "print(\"10CV accuracy : \"+str(clf.best_score_*100))"
   ]
  },
  {
   "cell_type": "code",
   "execution_count": 27,
   "metadata": {
    "execution": {
     "iopub.execute_input": "2020-09-24T15:00:33.517497Z",
     "iopub.status.busy": "2020-09-24T15:00:33.516351Z",
     "iopub.status.idle": "2020-09-24T15:00:33.531304Z",
     "shell.execute_reply": "2020-09-24T15:00:33.530493Z"
    },
    "papermill": {
     "duration": 0.060251,
     "end_time": "2020-09-24T15:00:33.531444",
     "exception": false,
     "start_time": "2020-09-24T15:00:33.471193",
     "status": "completed"
    },
    "tags": []
   },
   "outputs": [
    {
     "name": "stdout",
     "output_type": "stream",
     "text": [
      "test runtime: 0:00:00.006099\n"
     ]
    },
    {
     "data": {
      "text/plain": [
       "0.8984375"
      ]
     },
     "execution_count": 27,
     "metadata": {},
     "output_type": "execute_result"
    }
   ],
   "source": [
    "\n",
    "from sklearn.metrics import classification_report\n",
    "from sklearn.metrics import confusion_matrix\n",
    "start = datetime.now()\n",
    "y_predict = clf.predict(X_test_norm)\n",
    "target_names = ['negative', 'positive']\n",
    "runtime = datetime.now()-start\n",
    "\n",
    "print('test runtime: '+ str(runtime))\n",
    "sum(y_test == y_predict)/len(y_test)"
   ]
  },
  {
   "cell_type": "markdown",
   "metadata": {
    "papermill": {
     "duration": 0.034977,
     "end_time": "2020-09-24T15:00:33.602551",
     "exception": false,
     "start_time": "2020-09-24T15:00:33.567574",
     "status": "completed"
    },
    "tags": []
   },
   "source": [
    "print(classification_report(y_test, y_predict, target_names=target_names))"
   ]
  },
  {
   "cell_type": "code",
   "execution_count": 28,
   "metadata": {
    "execution": {
     "iopub.execute_input": "2020-09-24T15:00:33.682123Z",
     "iopub.status.busy": "2020-09-24T15:00:33.681378Z",
     "iopub.status.idle": "2020-09-24T15:00:33.896662Z",
     "shell.execute_reply": "2020-09-24T15:00:33.895981Z"
    },
    "papermill": {
     "duration": 0.259314,
     "end_time": "2020-09-24T15:00:33.896796",
     "exception": false,
     "start_time": "2020-09-24T15:00:33.637482",
     "status": "completed"
    },
    "tags": []
   },
   "outputs": [
    {
     "data": {
      "image/png": "[encoded data removed]",
      "text/plain": [
       "<Figure size 432x288 with 2 Axes>"
      ]
     },
     "metadata": {
      "needs_background": "light"
     },
     "output_type": "display_data"
    }
   ],
   "source": [
    "from sklearn.metrics import confusion_matrix\n",
    "import matplotlib.pyplot as plt\n",
    "import seaborn as sns\n",
    "target_names = ['negative', 'positive']\n",
    "C = confusion_matrix(y_test,y_predict) \n",
    "C = C / C.astype(np.float).sum(axis=1)*100\n",
    "sns.heatmap(C, annot=True, fmt=\".2f\",cmap=\"GnBu\",xticklabels=target_names, yticklabels=target_names)\n",
    "plt.ylabel(\"True Label\")\n",
    "plt.xlabel(\"Predicted Label\")\n",
    "plt.show()"
   ]
  }
 ],
 "metadata": {
  "kernelspec": {
   "display_name": "Python 3",
   "language": "python",
   "name": "python3"
  },
  "language_info": {
   "codemirror_mode": {
    "name": "ipython",
    "version": 3
   },
   "file_extension": ".py",
   "mimetype": "text/x-python",
   "name": "python",
   "nbconvert_exporter": "python",
   "pygments_lexer": "ipython3",
   "version": "3.7.6"
  },
  "papermill": {
   "duration": 4363.430451,
   "end_time": "2020-09-24T15:00:34.042731",
   "environment_variables": {},
   "exception": null,
   "input_path": "__notebook__.ipynb",
   "output_path": "__notebook__.ipynb",
   "parameters": {},
   "start_time": "2020-09-24T13:47:50.612280",
   "version": "2.1.0"
  }
 },
 "nbformat": 4,
 "nbformat_minor": 4
}
